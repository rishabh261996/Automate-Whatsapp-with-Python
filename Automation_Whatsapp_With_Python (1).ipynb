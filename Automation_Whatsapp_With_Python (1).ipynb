{
 "cells": [
  {
   "cell_type": "markdown",
   "metadata": {},
   "source": [
    "## About the library to be used\n",
    "To automate whatsapp activities , we will import the pachage pywahtkit. It is a Python Library for scheduling and sending WhatsApp messages with various other functions like playing a video on YouTube, Converting an image to ASCII art, Converting a string to an image with Hand Written Characters etc. "
   ]
  },
  {
   "cell_type": "code",
   "execution_count": 1,
   "metadata": {},
   "outputs": [
    {
     "name": "stdout",
     "output_type": "stream",
     "text": [
      "Requirement already satisfied: pywhatkit in c:\\anaconda\\lib\\site-packages (5.1)\n",
      "Requirement already satisfied: wikipedia in c:\\anaconda\\lib\\site-packages (from pywhatkit) (1.4.0)\n",
      "Requirement already satisfied: Pillow in c:\\anaconda\\lib\\site-packages (from pywhatkit) (7.2.0)\n",
      "Requirement already satisfied: requests in c:\\anaconda\\lib\\site-packages (from pywhatkit) (2.25.1)\n",
      "Requirement already satisfied: pyautogui in c:\\anaconda\\lib\\site-packages (from pywhatkit) (0.9.53)\n",
      "Requirement already satisfied: beautifulsoup4 in c:\\anaconda\\lib\\site-packages (from wikipedia->pywhatkit) (4.9.1)\n",
      "Requirement already satisfied: chardet<5,>=3.0.2 in c:\\anaconda\\lib\\site-packages (from requests->pywhatkit) (3.0.4)\n",
      "Requirement already satisfied: urllib3<1.27,>=1.21.1 in c:\\anaconda\\lib\\site-packages (from requests->pywhatkit) (1.25.9)\n",
      "Requirement already satisfied: certifi>=2017.4.17 in c:\\anaconda\\lib\\site-packages (from requests->pywhatkit) (2020.6.20)\n",
      "Requirement already satisfied: idna<3,>=2.5 in c:\\anaconda\\lib\\site-packages (from requests->pywhatkit) (2.10)\n",
      "Requirement already satisfied: pygetwindow>=0.0.5 in c:\\anaconda\\lib\\site-packages (from pyautogui->pywhatkit) (0.0.9)\n",
      "Requirement already satisfied: PyTweening>=1.0.1 in c:\\anaconda\\lib\\site-packages (from pyautogui->pywhatkit) (1.0.3)\n",
      "Requirement already satisfied: pyscreeze>=0.1.21 in c:\\anaconda\\lib\\site-packages (from pyautogui->pywhatkit) (0.1.27)\n",
      "Requirement already satisfied: pymsgbox in c:\\anaconda\\lib\\site-packages (from pyautogui->pywhatkit) (1.0.9)\n",
      "Requirement already satisfied: mouseinfo in c:\\anaconda\\lib\\site-packages (from pyautogui->pywhatkit) (0.1.3)\n",
      "Requirement already satisfied: soupsieve>1.2 in c:\\anaconda\\lib\\site-packages (from beautifulsoup4->wikipedia->pywhatkit) (2.0.1)\n",
      "Requirement already satisfied: pyrect in c:\\anaconda\\lib\\site-packages (from pygetwindow>=0.0.5->pyautogui->pywhatkit) (0.1.4)\n",
      "Requirement already satisfied: pyperclip in c:\\anaconda\\lib\\site-packages (from mouseinfo->pyautogui->pywhatkit) (1.8.2)\n"
     ]
    }
   ],
   "source": [
    "# Install a pip pywhatkit package in the current Jupyter kernel\n",
    "import sys\n",
    "!{sys.executable} -m pip install pywhatkit"
   ]
  },
  {
   "cell_type": "code",
   "execution_count": 2,
   "metadata": {},
   "outputs": [],
   "source": [
    "# import in shorter form for conveniency\n",
    "import pywhatkit as kit"
   ]
  },
  {
   "cell_type": "code",
   "execution_count": 3,
   "metadata": {},
   "outputs": [
    {
     "data": {
      "text/plain": [
       "['__builtins__',\n",
       " '__cached__',\n",
       " '__doc__',\n",
       " '__file__',\n",
       " '__loader__',\n",
       " '__name__',\n",
       " '__package__',\n",
       " '__path__',\n",
       " '__spec__',\n",
       " 'ascii_art',\n",
       " 'cancel_shutdown',\n",
       " 'check_window',\n",
       " 'chr_to_handwriting',\n",
       " 'close_tab',\n",
       " 'developer_contact',\n",
       " 'exceptions',\n",
       " 'help',\n",
       " 'history',\n",
       " 'image_to_ascii_art',\n",
       " 'info',\n",
       " 'join_discord',\n",
       " 'mail',\n",
       " 'main',\n",
       " 'playonyt',\n",
       " 'print_sleep_time',\n",
       " 'pywhatkit',\n",
       " 'sc',\n",
       " 'search',\n",
       " 'send_hmail',\n",
       " 'send_mail',\n",
       " 'sendwhatmsg',\n",
       " 'sendwhatmsg_instantly',\n",
       " 'sendwhatmsg_to_group',\n",
       " 'sendwhats_image',\n",
       " 'show_history',\n",
       " 'shutdown',\n",
       " 'text_to_handwriting',\n",
       " 'tutorial_english',\n",
       " 'tutorial_hindi',\n",
       " 'wwd']"
      ]
     },
     "execution_count": 3,
     "metadata": {},
     "output_type": "execute_result"
    }
   ],
   "source": [
    "# methods and attributes of pywhatkit package\n",
    "dir(kit)"
   ]
  },
  {
   "cell_type": "markdown",
   "metadata": {},
   "source": [
    "Above methods and attributes can be used with the help of pywhatkit to automate actions in whatsapp like sending messages and images"
   ]
  },
  {
   "cell_type": "markdown",
   "metadata": {},
   "source": [
    "### Using Sendwhatmsg method\n",
    "Using sendwhatmsg to send a specified message to an individual at a given point of time"
   ]
  },
  {
   "cell_type": "code",
   "execution_count": 4,
   "metadata": {},
   "outputs": [
    {
     "name": "stdout",
     "output_type": "stream",
     "text": [
      "In 59 seconds web.whatsapp.com will open and after 20 seconds message will be delivered\n"
     ]
    }
   ],
   "source": [
    "# sending the message at a future time 14,13 (2:13) to a given number\n",
    "kit.sendwhatmsg('+91 18002086633',\"Where are you?\",14,45)"
   ]
  },
  {
   "cell_type": "markdown",
   "metadata": {},
   "source": [
    "### Sendwhats_image\n",
    "This function can be used to send Image or Gif or videos to anyone"
   ]
  },
  {
   "cell_type": "code",
   "execution_count": 5,
   "metadata": {},
   "outputs": [],
   "source": [
    "# sending images \n",
    "kit.sendwhats_image('+91 18002086633',img_path =r'C:\\Users\\Rishabh Gupta\\Pictures\\growth.PNG')"
   ]
  },
  {
   "cell_type": "markdown",
   "metadata": {},
   "source": [
    "### Show_history method\n",
    "It will show information of all the messages sent using this library"
   ]
  },
  {
   "cell_type": "code",
   "execution_count": 6,
   "metadata": {},
   "outputs": [
    {
     "name": "stdout",
     "output_type": "stream",
     "text": [
      "--------------------\n",
      "Date: 9:9:2021\n",
      "Time: 14:5\n",
      "Phone number: +9971736714\n",
      "Message: Where are you?\n",
      "--------------------\n",
      "Date: 9:9:2021\n",
      "Time: 14:6\n",
      "Phone number: +91 9971736714\n",
      "Message: Where are you?\n",
      "--------------------\n",
      "Date: 9:9:2021\n",
      "Time: 14:14\n",
      "Phone number: +91 9971736714\n",
      "Message: Where are you?\n",
      "--------------------\n",
      "Date: 9:9:2021\n",
      "Time: 14:18\n",
      "Phone number: +91 9971736714\n",
      "Message: Where are you?\n",
      "--------------------\n",
      "Date: 9:9:2021\n",
      "Time: 14:25\n",
      "Phone number: +91 9971736714\n",
      "Message: Where are you?\n",
      "--------------------\n",
      "Date: 9:9:2021\n",
      "Time: 14:27\n",
      "Phone number: +91 18002086633\n",
      "Message: Where are you?\n",
      "--------------------\n",
      "Date: 9:9:2021\n",
      "Time: 14:27\n",
      "Phone number: +91 18002086633\n",
      "Message: Where are you?\n",
      "--------------------\n",
      "Date: 9:9:2021\n",
      "Time: 14:45\n",
      "Phone number: +91 18002086633\n",
      "Message: Where are you?\n",
      "--------------------\n",
      "\n"
     ]
    }
   ],
   "source": [
    "# checking the history of messages sent\n",
    "kit.show_history()"
   ]
  }
 ],
 "metadata": {
  "kernelspec": {
   "display_name": "Python 3",
   "language": "python",
   "name": "python3"
  },
  "language_info": {
   "codemirror_mode": {
    "name": "ipython",
    "version": 3
   },
   "file_extension": ".py",
   "mimetype": "text/x-python",
   "name": "python",
   "nbconvert_exporter": "python",
   "pygments_lexer": "ipython3",
   "version": "3.8.3"
  }
 },
 "nbformat": 4,
 "nbformat_minor": 4
}
